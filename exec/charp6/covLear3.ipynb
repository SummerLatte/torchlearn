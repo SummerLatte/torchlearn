{
 "cells": [
  {
   "cell_type": "code",
   "execution_count": 1,
   "metadata": {},
   "outputs": [
    {
     "name": "stdout",
     "output_type": "stream",
     "text": [
      "Files already downloaded and verified\n",
      "Files already downloaded and verified\n"
     ]
    }
   ],
   "source": [
    "import torch\n",
    "from torchvision import datasets, transforms\n",
    "from torchvision.transforms import v2\n",
    "import matplotlib.pyplot as plt\n",
    "import numpy as np\n",
    "import sys\n",
    "import torch.nn as nn\n",
    "\n",
    "sys.path.insert(0, '../')\n",
    "\n",
    "trainData = datasets.CIFAR10(root='../data', train=True, download=True, transform=transforms.ToTensor())\n",
    "testData = datasets.CIFAR10(root='../data', train=False, download=True, transform=transforms.ToTensor())"
   ]
  },
  {
   "cell_type": "code",
   "execution_count": 2,
   "metadata": {},
   "outputs": [
    {
     "name": "stdout",
     "output_type": "stream",
     "text": [
      "Using mps device\n"
     ]
    }
   ],
   "source": [
    "device = (\n",
    "    \"cuda\"\n",
    "    if torch.cuda.is_available()\n",
    "    else \"mps\"\n",
    "    if torch.backends.mps.is_available()\n",
    "    else \"cpu\"\n",
    ")\n",
    "print(f\"Using {device} device\")"
   ]
  },
  {
   "cell_type": "code",
   "execution_count": 3,
   "metadata": {},
   "outputs": [
    {
     "data": {
      "text/plain": [
       "(50000, 32, 32, 3)"
      ]
     },
     "execution_count": 3,
     "metadata": {},
     "output_type": "execute_result"
    }
   ],
   "source": [
    "trainData.data.shape"
   ]
  },
  {
   "cell_type": "code",
   "execution_count": 4,
   "metadata": {},
   "outputs": [
    {
     "name": "stdout",
     "output_type": "stream",
     "text": [
      "Number of training samples: 40000\n",
      "Number of validation samples: 10000\n"
     ]
    }
   ],
   "source": [
    "from torch.utils.data import DataLoader, Subset\n",
    "\n",
    "# Number of samples per class for the validation set\n",
    "num_classes = 10\n",
    "samples_per_class = 1000\n",
    "total_val_samples = num_classes * samples_per_class\n",
    "\n",
    "# Get indices of samples for each class\n",
    "class_indices = [[] for _ in range(num_classes)]\n",
    "for idx, (data, label) in enumerate(trainData):\n",
    "    class_indices[label].append(idx)\n",
    "\n",
    "\n",
    "val_indices = []\n",
    "train_indices = []\n",
    "for class_idx in class_indices:\n",
    "    np.random.shuffle(class_idx)\n",
    "    val_indices.extend(class_idx[:samples_per_class])\n",
    "    train_indices.extend(class_idx[samples_per_class:])\n",
    "\n",
    "# Create Subsets for the train and validation datasets\n",
    "train_dataset = Subset(trainData, train_indices)\n",
    "val_dataset = Subset(trainData, val_indices)\n",
    "\n",
    "# Create DataLoaders\n",
    "trainLoader = DataLoader(train_dataset, batch_size=256, shuffle=True)\n",
    "valLoader = DataLoader(val_dataset, batch_size=256, shuffle=False)\n",
    "testLoader = DataLoader(testData, batch_size=256, shuffle=True)\n",
    "\n",
    "# Optionally print the number of samples in each set\n",
    "print(f\"Number of training samples: {len(train_dataset)}\")\n",
    "print(f\"Number of validation samples: {len(val_dataset)}\")"
   ]
  },
  {
   "cell_type": "code",
   "execution_count": 5,
   "metadata": {},
   "outputs": [
    {
     "data": {
      "text/plain": [
       "CovModel2(\n",
       "  (conv3): Sequential(\n",
       "    (0): Conv2d(3, 32, kernel_size=(5, 5), stride=(1, 1), padding=(2, 2))\n",
       "    (1): BatchNorm2d(32, eps=1e-05, momentum=0.1, affine=True, track_running_stats=True)\n",
       "    (2): Print()\n",
       "    (3): ReLU()\n",
       "    (4): Conv2d(32, 32, kernel_size=(5, 5), stride=(1, 1), padding=(2, 2))\n",
       "    (5): BatchNorm2d(32, eps=1e-05, momentum=0.1, affine=True, track_running_stats=True)\n",
       "    (6): Print()\n",
       "    (7): ReLU()\n",
       "    (8): Conv2d(32, 64, kernel_size=(3, 3), stride=(1, 1), padding=(1, 1))\n",
       "    (9): BatchNorm2d(64, eps=1e-05, momentum=0.1, affine=True, track_running_stats=True)\n",
       "    (10): Print()\n",
       "    (11): ReLU()\n",
       "    (12): Conv2d(64, 64, kernel_size=(3, 3), stride=(1, 1), padding=(1, 1))\n",
       "    (13): BatchNorm2d(64, eps=1e-05, momentum=0.1, affine=True, track_running_stats=True)\n",
       "    (14): Print()\n",
       "    (15): ReLU()\n",
       "    (16): Conv2d(64, 64, kernel_size=(3, 3), stride=(1, 1), padding=(1, 1))\n",
       "    (17): Print()\n",
       "    (18): ReLU()\n",
       "    (19): Flatten(start_dim=1, end_dim=-1)\n",
       "    (20): Linear(in_features=65536, out_features=512, bias=True)\n",
       "    (21): BatchNorm1d(512, eps=1e-05, momentum=0.1, affine=True, track_running_stats=True)\n",
       "    (22): Dropout(p=0.5, inplace=False)\n",
       "    (23): Print()\n",
       "    (24): Linear(in_features=512, out_features=256, bias=True)\n",
       "    (25): BatchNorm1d(256, eps=1e-05, momentum=0.1, affine=True, track_running_stats=True)\n",
       "    (26): Dropout(p=0.3, inplace=False)\n",
       "    (27): Linear(in_features=256, out_features=10, bias=True)\n",
       "  )\n",
       ")"
      ]
     },
     "execution_count": 5,
     "metadata": {},
     "output_type": "execute_result"
    }
   ],
   "source": [
    "from lxmodels import CovModel2\n",
    "\n",
    "    \n",
    "model = CovModel2()\n",
    "def init_weights(m):\n",
    "    if type(m) == nn.Linear or type(m) == nn.Conv2d:\n",
    "        nn.init.xavier_uniform_(m.weight)\n",
    "model.apply(init_weights)\n",
    "model.to(device)"
   ]
  },
  {
   "cell_type": "code",
   "execution_count": 6,
   "metadata": {},
   "outputs": [],
   "source": [
    "learning_rate = 1\n",
    "batch_size = 256\n",
    "loss_fn = nn.CrossEntropyLoss()\n",
    "optimizer = torch.optim.Adam(model.parameters())\n",
    "epochs = 80"
   ]
  },
  {
   "cell_type": "code",
   "execution_count": 7,
   "metadata": {},
   "outputs": [
    {
     "name": "stdout",
     "output_type": "stream",
     "text": [
      "Epoch 1\n",
      "-------------------------------\n",
      "loss: 3.344633  [  256/40000]\n",
      "loss: 1.518186  [25856/40000]\n",
      "Epoch 2\n",
      "-------------------------------\n",
      "loss: 1.380876  [  256/40000]\n",
      "loss: 1.311345  [25856/40000]\n",
      "Epoch 3\n",
      "-------------------------------\n",
      "loss: 1.142421  [  256/40000]\n",
      "loss: 0.931851  [25856/40000]\n",
      "Epoch 4\n",
      "-------------------------------\n",
      "loss: 1.055627  [  256/40000]\n",
      "loss: 1.078769  [25856/40000]\n",
      "Epoch 5\n",
      "-------------------------------\n",
      "loss: 0.909029  [  256/40000]\n"
     ]
    },
    {
     "ename": "KeyboardInterrupt",
     "evalue": "",
     "output_type": "error",
     "traceback": [
      "\u001b[0;31m---------------------------------------------------------------------------\u001b[0m",
      "\u001b[0;31mKeyboardInterrupt\u001b[0m                         Traceback (most recent call last)",
      "Cell \u001b[0;32mIn[7], line 65\u001b[0m\n\u001b[1;32m     63\u001b[0m \u001b[38;5;28;01mfor\u001b[39;00m t \u001b[38;5;129;01min\u001b[39;00m \u001b[38;5;28mrange\u001b[39m(epochs):\n\u001b[1;32m     64\u001b[0m     \u001b[38;5;28mprint\u001b[39m(\u001b[38;5;124mf\u001b[39m\u001b[38;5;124m\"\u001b[39m\u001b[38;5;124mEpoch \u001b[39m\u001b[38;5;132;01m{\u001b[39;00mt\u001b[38;5;241m+\u001b[39m\u001b[38;5;241m1\u001b[39m\u001b[38;5;132;01m}\u001b[39;00m\u001b[38;5;130;01m\\n\u001b[39;00m\u001b[38;5;124m-------------------------------\u001b[39m\u001b[38;5;124m\"\u001b[39m)\n\u001b[0;32m---> 65\u001b[0m     \u001b[43mtrain_loop\u001b[49m\u001b[43m(\u001b[49m\u001b[43mtrainLoader\u001b[49m\u001b[43m,\u001b[49m\u001b[43m \u001b[49m\u001b[43mmodel\u001b[49m\u001b[43m,\u001b[49m\u001b[43m \u001b[49m\u001b[43mloss_fn\u001b[49m\u001b[43m,\u001b[49m\u001b[43m \u001b[49m\u001b[43moptimizer\u001b[49m\u001b[43m,\u001b[49m\u001b[43m \u001b[49m\u001b[43mt\u001b[49m\u001b[43m)\u001b[49m\n\u001b[1;32m     66\u001b[0m \u001b[38;5;28mprint\u001b[39m(\u001b[38;5;124m\"\u001b[39m\u001b[38;5;124mDone!\u001b[39m\u001b[38;5;124m\"\u001b[39m)\n",
      "Cell \u001b[0;32mIn[7], line 23\u001b[0m, in \u001b[0;36mtrain_loop\u001b[0;34m(dataloader, model, loss_fn, optimizer, ep)\u001b[0m\n\u001b[1;32m     16\u001b[0m augs \u001b[38;5;241m=\u001b[39m v2\u001b[38;5;241m.\u001b[39mCompose([\n\u001b[1;32m     17\u001b[0m     v2\u001b[38;5;241m.\u001b[39mColorJitter(brightness\u001b[38;5;241m=\u001b[39m\u001b[38;5;241m0.5\u001b[39m, contrast\u001b[38;5;241m=\u001b[39m\u001b[38;5;241m0.5\u001b[39m, saturation\u001b[38;5;241m=\u001b[39m\u001b[38;5;241m0.5\u001b[39m),\n\u001b[1;32m     18\u001b[0m     v2\u001b[38;5;241m.\u001b[39mRandomHorizontalFlip(),\n\u001b[1;32m     19\u001b[0m     v2\u001b[38;5;241m.\u001b[39mRandomRotation(\u001b[38;5;241m5\u001b[39m),\n\u001b[1;32m     20\u001b[0m     v2\u001b[38;5;241m.\u001b[39mRandomResizedCrop(\u001b[38;5;241m32\u001b[39m, scale\u001b[38;5;241m=\u001b[39m(\u001b[38;5;241m0.9\u001b[39m, \u001b[38;5;241m1.0\u001b[39m), ratio\u001b[38;5;241m=\u001b[39m(\u001b[38;5;241m0.9\u001b[39m, \u001b[38;5;241m1.0\u001b[39m)),\n\u001b[1;32m     21\u001b[0m ])\n\u001b[1;32m     22\u001b[0m X \u001b[38;5;241m=\u001b[39m augs(X)\n\u001b[0;32m---> 23\u001b[0m X, y \u001b[38;5;241m=\u001b[39m \u001b[43mX\u001b[49m\u001b[38;5;241;43m.\u001b[39;49m\u001b[43mto\u001b[49m\u001b[43m(\u001b[49m\u001b[43mdevice\u001b[49m\u001b[43m)\u001b[49m, y\u001b[38;5;241m.\u001b[39mto(device)\n\u001b[1;32m     24\u001b[0m \u001b[38;5;66;03m# Compute prediction and loss\u001b[39;00m\n\u001b[1;32m     25\u001b[0m pred \u001b[38;5;241m=\u001b[39m model(X)\n",
      "\u001b[0;31mKeyboardInterrupt\u001b[0m: "
     ]
    }
   ],
   "source": [
    "import sys\n",
    "sys.path.insert(0, '../')\n",
    "\n",
    "from util import ModelSaver\n",
    "\n",
    "saver = ModelSaver('./')\n",
    "\n",
    "matrix = []\n",
    "\n",
    "def train_loop(dataloader, model, loss_fn, optimizer, ep):\n",
    "    size = len(dataloader.dataset)\n",
    "    # Set the model to training mode - important for batch normalization and dropout layers\n",
    "    # Unnecessary in this situation but added for best practices\n",
    "    model.train()\n",
    "    for batch, (X, y) in enumerate(dataloader):\n",
    "        augs = v2.Compose([\n",
    "            v2.ColorJitter(brightness=0.5, contrast=0.5, saturation=0.5),\n",
    "            v2.RandomHorizontalFlip(),\n",
    "            v2.RandomRotation(5),\n",
    "            v2.RandomResizedCrop(32, scale=(0.9, 1.0), ratio=(0.9, 1.0)),\n",
    "        ])\n",
    "        X = augs(X)\n",
    "        X, y = X.to(device), y.to(device)\n",
    "        # Compute prediction and loss\n",
    "        pred = model(X)\n",
    "        loss = loss_fn(pred, y)\n",
    "        # Backpropagation\n",
    "        loss.backward()\n",
    "        optimizer.step()\n",
    "        optimizer.zero_grad()\n",
    "\n",
    "        if batch % 100 == 0:\n",
    "            loss, current = loss.item(), batch * batch_size + len(X)\n",
    "            print(f\"loss: {loss:>7f}  [{current:>5d}/{size:>5d}]\")\n",
    "\n",
    "    model.eval()\n",
    "    trainLoss, trainCorrect = 0, 0\n",
    "    validLoss, validCorrect = 0, 0\n",
    "    with torch.no_grad():\n",
    "        for X, y in dataloader:\n",
    "            X, y = X.to(device), y.to(device)\n",
    "            pred = model(X)\n",
    "            trainLoss += loss_fn(pred, y).item()\n",
    "            trainCorrect += (pred.argmax(1) == y).type(torch.float).sum().item()\n",
    "\n",
    "        for X, y in valLoader:\n",
    "            X, y = X.to(device), y.to(device)\n",
    "            pred = model(X)\n",
    "            validLoss += loss_fn(pred, y).item()\n",
    "            validCorrect += (pred.argmax(1) == y).type(torch.float).sum().item()\n",
    "\n",
    "    trainLoss /= size\n",
    "    trainCorrect /= size\n",
    "    validLoss /= len(valLoader.dataset)\n",
    "    validCorrect /= len(valLoader.dataset)\n",
    "    # Multiply losses by 100\n",
    "    trainLoss *= 30\n",
    "    validLoss *= 30\n",
    "    saver.save(model, validCorrect, \"haha\")\n",
    "    matrix.append([trainLoss, trainCorrect, validLoss, validCorrect])\n",
    "    \n",
    "    \n",
    "for t in range(epochs):\n",
    "    print(f\"Epoch {t+1}\\n-------------------------------\")\n",
    "    train_loop(trainLoader, model, loss_fn, optimizer, t)\n",
    "print(\"Done!\")\n",
    "\n"
   ]
  },
  {
   "cell_type": "code",
   "execution_count": null,
   "metadata": {},
   "outputs": [],
   "source": [
    "saver.lastMax"
   ]
  },
  {
   "cell_type": "code",
   "execution_count": null,
   "metadata": {},
   "outputs": [],
   "source": [
    "model.conv3"
   ]
  },
  {
   "cell_type": "code",
   "execution_count": null,
   "metadata": {},
   "outputs": [],
   "source": [
    "type(model.conv3[1]) == nn.BatchNorm2d"
   ]
  },
  {
   "cell_type": "code",
   "execution_count": null,
   "metadata": {},
   "outputs": [],
   "source": [
    "trainFeatures, trainLabels = next(iter(trainLoader))\n",
    "X = trainFeatures[0]\n",
    "X = X.to(device)\n",
    "\n",
    "model.load_state_dict(torch.load('./haha'))\n",
    "\n",
    "model.eval()\n",
    "\n",
    "def layerOutput(model, input, layer):\n",
    "    for i in range(layer+1):\n",
    "        if type(model.conv3[i]) == nn.BatchNorm2d:\n",
    "            continue\n",
    "        input = model.conv3[i](input)\n",
    "    return input.cpu().detach().numpy()\n",
    "\n",
    "images = layerOutput(model, X, 0)\n",
    "images2 = layerOutput(model, X, 4)\n",
    "images4 = layerOutput(model, X, 8)\n",
    "images6 = layerOutput(model, X, 12)\n",
    "\n",
    "def plot_images(images):\n",
    "    fig, axes = plt.subplots(len(images) // 8, 8, figsize=(20, 10))\n",
    "\n",
    "    # Loop through the images and plot them on the subplots\n",
    "    for i in range(len(images)):\n",
    "        row, col = i // 8, i % 8\n",
    "        axes[row, col].imshow(images[i])\n",
    "        axes[row, col].axis('off')\n",
    "    plt.show()\n",
    "\n",
    "plot_images(images)\n",
    "plot_images(images2)\n",
    "plot_images(images4)\n",
    "plot_images(images6)"
   ]
  },
  {
   "cell_type": "code",
   "execution_count": null,
   "metadata": {},
   "outputs": [],
   "source": [
    "import matplotlib.pyplot as plt\n",
    "\n",
    "# Assuming matrix is a list of lists where each list contains [trainLoss, trainCorrect, validLoss, validCorrect]\n",
    "trainLosses, trainCorrects, validLosses, validCorrects = zip(*matrix)\n",
    "\n",
    "# Create a single plot\n",
    "fig, ax = plt.subplots(figsize=(15, 10))\n",
    "\n",
    "# Plot training loss\n",
    "ax.plot(trainLosses, label='Training Loss')\n",
    "\n",
    "# Plot training accuracy\n",
    "ax.plot(trainCorrects, label='Training Accuracy')\n",
    "\n",
    "# Plot validation loss\n",
    "ax.plot(validLosses, label='Validation Loss')\n",
    "\n",
    "# Plot validation accuracy\n",
    "ax.plot(validCorrects, label='Validation Accuracy')\n",
    "\n",
    "# Add a legend\n",
    "ax.legend()\n",
    "\n",
    "# Display the plot\n",
    "plt.show(fig)"
   ]
  },
  {
   "cell_type": "code",
   "execution_count": null,
   "metadata": {},
   "outputs": [],
   "source": [
    "import torchvision.models as models\n",
    "from d2l import torch as d2l\n",
    "\n",
    "alexnet = models.alexnet(weights='IMAGENET1K_V1')\n",
    "alexnet.to(device)\n",
    "\n",
    "size = len(valLoader.dataset)\n",
    "alexnet.eval()\n",
    "validLoss, validCorrect = 0, 0\n",
    "with torch.no_grad():\n",
    "    for X, y in valLoader:\n",
    "        X, y = X.to(device), y.to(device)\n",
    "        pred = alexnet(X)\n",
    "        validLoss += loss_fn(pred, y).item()\n",
    "        validCorrect += (pred.argmax(1) == y).type(torch.float).sum().item()\n",
    "\n",
    "validLoss /= len(valLoader.dataset)\n",
    "validCorrect /= len(valLoader.dataset)\n",
    "# Multiply losses by 100\n",
    "validLoss *= 30\n",
    "print(f\"Validation Error: \\n Accuracy: {(100*validCorrect):>0.1f}%, Avg loss: {validLoss:>8f} \\n\")"
   ]
  }
 ],
 "metadata": {
  "kernelspec": {
   "display_name": "d2l",
   "language": "python",
   "name": "python3"
  },
  "language_info": {
   "codemirror_mode": {
    "name": "ipython",
    "version": 3
   },
   "file_extension": ".py",
   "mimetype": "text/x-python",
   "name": "python",
   "nbconvert_exporter": "python",
   "pygments_lexer": "ipython3",
   "version": "3.9.19"
  }
 },
 "nbformat": 4,
 "nbformat_minor": 2
}
