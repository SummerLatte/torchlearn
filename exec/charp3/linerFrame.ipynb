{
 "cells": [
  {
   "cell_type": "code",
   "execution_count": 1,
   "metadata": {},
   "outputs": [],
   "source": [
    "import numpy as np\n",
    "import torch\n",
    "from torch.utils import data\n",
    "from d2l import torch as d2l"
   ]
  },
  {
   "cell_type": "code",
   "execution_count": 233,
   "metadata": {},
   "outputs": [],
   "source": [
    "# data\n",
    "def linerMock(W, b, number):\n",
    "    X = torch.normal(0, 1, (number, len(W)))\n",
    "    y = torch.matmul(X, W) + b\n",
    "    y += torch.normal(0, 0.5, y.shape)\n",
    "    return X, torch.reshape(y, (-1, 1))\n",
    "    # return X, y\n",
    "\n",
    "feature, label = linerMock(torch.tensor([-2.0, 4.0]), 1.0, 1000)"
   ]
  },
  {
   "cell_type": "code",
   "execution_count": 241,
   "metadata": {},
   "outputs": [
    {
     "data": {
      "text/plain": [
       "torch.Size([2])"
      ]
     },
     "execution_count": 241,
     "metadata": {},
     "output_type": "execute_result"
    }
   ],
   "source": [
    "torch.tensor([-2.0, 4.0]).shape"
   ]
  },
  {
   "cell_type": "code",
   "execution_count": null,
   "metadata": {},
   "outputs": [],
   "source": [
    "# generate data\n",
    "# y = 3x + 2\n",
    "\n",
    "def genData(w, b, num_examples):\n",
    "    X = torch.normal(0, 1, (num_examples, len(w)))\n",
    "    y = torch.matmul(X, w) + b\n",
    "    y += torch.normal(0, 0.1, y.shape)\n",
    "    return X, torch.reshape(y, (-1,1))\n",
    "\n",
    "feature, label = genData(torch.tensor([-2.0, 4.0]), 2.0, 1000)\n",
    "\n",
    "d2l.plt.scatter(feature[:, 1].detach(), label.detach())"
   ]
  },
  {
   "cell_type": "code",
   "execution_count": null,
   "metadata": {},
   "outputs": [],
   "source": [
    "true_w = torch.tensor([2, -3.4])\n",
    "true_b = 4.2\n",
    "feature, label = d2l.synthetic_data(true_w, true_b, 1000)\n",
    "d2l.plt.scatter(feature[:, 1].detach(), label.detach())"
   ]
  },
  {
   "cell_type": "code",
   "execution_count": 7,
   "metadata": {},
   "outputs": [],
   "source": [
    "#hyper parameter\n",
    "lr = 0.03\n",
    "batchSize = 32\n",
    "epoch = 5"
   ]
  },
  {
   "cell_type": "code",
   "execution_count": 218,
   "metadata": {},
   "outputs": [],
   "source": [
    "myDataset = data.TensorDataset(*(feature, label))\n",
    "dataItr = data.DataLoader(myDataset, batchSize, shuffle=True)"
   ]
  },
  {
   "cell_type": "code",
   "execution_count": 108,
   "metadata": {},
   "outputs": [
    {
     "name": "stdout",
     "output_type": "stream",
     "text": [
      "[tensor([[-0.7776, -0.6059],\n",
      "        [ 0.0396,  1.3283],\n",
      "        [-1.0419, -1.3931],\n",
      "        [-0.1975, -1.0258],\n",
      "        [ 0.7046,  0.0366],\n",
      "        [ 1.4410, -0.9633],\n",
      "        [-0.7207, -0.9129],\n",
      "        [-1.1566, -0.6565],\n",
      "        [-0.0031,  0.2703],\n",
      "        [-0.6154, -2.1001],\n",
      "        [-0.8926, -0.7285],\n",
      "        [ 0.6367, -0.8788],\n",
      "        [-0.1056,  1.1227],\n",
      "        [ 0.8463,  0.8790],\n",
      "        [ 0.7417, -1.2538],\n",
      "        [ 0.4993, -0.1989],\n",
      "        [-0.0152,  0.4799],\n",
      "        [-1.2056,  0.7613],\n",
      "        [ 0.4834,  0.6815],\n",
      "        [-0.8112, -0.2447],\n",
      "        [-0.8295, -0.2632],\n",
      "        [-1.0830,  1.0580],\n",
      "        [-0.5661,  0.1275],\n",
      "        [ 0.0824, -0.6888],\n",
      "        [-2.0770,  0.0330],\n",
      "        [-1.8357, -0.7490],\n",
      "        [ 1.2992, -2.2128],\n",
      "        [-0.8101,  0.9993],\n",
      "        [ 1.6277,  0.0930],\n",
      "        [-1.0369, -0.6421],\n",
      "        [ 0.0851,  0.6547],\n",
      "        [ 0.5268, -2.0138]]), tensor([[ 4.7001],\n",
      "        [-0.2107],\n",
      "        [ 6.8593],\n",
      "        [ 7.2879],\n",
      "        [ 5.4932],\n",
      "        [10.3749],\n",
      "        [ 5.8746],\n",
      "        [ 4.1144],\n",
      "        [ 3.2664],\n",
      "        [10.1095],\n",
      "        [ 4.8995],\n",
      "        [ 8.4471],\n",
      "        [ 0.1688],\n",
      "        [ 2.8854],\n",
      "        [ 9.9519],\n",
      "        [ 5.8748],\n",
      "        [ 2.5290],\n",
      "        [-0.7870],\n",
      "        [ 2.8584],\n",
      "        [ 3.4197],\n",
      "        [ 3.4374],\n",
      "        [-1.5719],\n",
      "        [ 2.6420],\n",
      "        [ 6.7294],\n",
      "        [-0.0751],\n",
      "        [ 3.0713],\n",
      "        [14.3210],\n",
      "        [-0.8233],\n",
      "        [ 7.1375],\n",
      "        [ 4.3153],\n",
      "        [ 2.1494],\n",
      "        [12.1012]])]\n"
     ]
    }
   ],
   "source": [
    "print(next(iter(dataItr)))"
   ]
  },
  {
   "cell_type": "code",
   "execution_count": 64,
   "metadata": {},
   "outputs": [],
   "source": [
    "from torch import nn\n",
    "\n",
    "class MyNet(nn.Module):\n",
    "    def __init__(self) -> None:\n",
    "        super().__init__()\n",
    "        self.flatten : nn.Flatten = nn.Flatten()\n",
    "        self.linear : nn.Sequential = nn.Sequential(nn.Linear(2,1))\n",
    "\n",
    "    def forward(self, x):\n",
    "        # x = self.flatten(x)\n",
    "        return self.linear(x)\n",
    "\n",
    "model = MyNet().to(\"cpu\")"
   ]
  },
  {
   "cell_type": "code",
   "execution_count": 220,
   "metadata": {},
   "outputs": [
    {
     "name": "stdout",
     "output_type": "stream",
     "text": [
      "tensor([[ 0.0631, -0.0308]])\n",
      "tensor([0.])\n"
     ]
    }
   ],
   "source": [
    "print(model.linear[0].weight.data.normal_(0, 0.1))\n",
    "print(model.linear[0].bias.data.fill_(0))"
   ]
  },
  {
   "cell_type": "code",
   "execution_count": 66,
   "metadata": {},
   "outputs": [],
   "source": [
    "lossFn = nn.MSELoss()\n",
    "optimizer = torch.optim.SGD(model.parameters(), lr=lr)"
   ]
  },
  {
   "cell_type": "code",
   "execution_count": 128,
   "metadata": {},
   "outputs": [],
   "source": [
    "def trainLoop(dataloader: data.DataLoader, \n",
    "              model: nn.Module, \n",
    "              lossFn: nn.MSELoss, optimizer: torch.optim.SGD):\n",
    "    size = len(dataloader.dataset)\n",
    "    model.train()\n",
    "    for batch, (X, y) in enumerate(dataloader):\n",
    "        pred = model(X)\n",
    "        loss = lossFn(pred, y)\n",
    "\n",
    "        loss.backward()\n",
    "        optimizer.step()\n",
    "        optimizer.zero_grad()\n",
    "\n",
    "        if batch % 100 == 0:\n",
    "            loss, current = loss.item(), batch * batchSize + len(X)\n",
    "            print(f\"loss: {loss:>7f} [{current:>5d}/{size:>5d}]\")\n",
    "            l = lossFn(model(feature), label)\n",
    "            print(f'epoch {epoch + 1}, loss {l:f}')"
   ]
  },
  {
   "cell_type": "code",
   "execution_count": 221,
   "metadata": {},
   "outputs": [
    {
     "name": "stdout",
     "output_type": "stream",
     "text": [
      "Epoch 1\n",
      "\n",
      "loss: 17.439655 [   32/ 1000]\n",
      "epoch 3, loss 18.553246\n",
      "Epoch 2\n",
      "\n",
      "loss: 0.726910 [   32/ 1000]\n",
      "epoch 3, loss 0.766165\n"
     ]
    }
   ],
   "source": [
    "for t in range(epoch):\n",
    "    print(f\"Epoch {t+1}\\n\")\n",
    "    trainLoop(dataItr, model, lossFn, optimizer)"
   ]
  },
  {
   "cell_type": "code",
   "execution_count": 219,
   "metadata": {},
   "outputs": [
    {
     "name": "stdout",
     "output_type": "stream",
     "text": [
      "epoch 1, loss 0.718117\n",
      "epoch 2, loss 0.295574\n",
      "epoch 3, loss 0.285686\n"
     ]
    }
   ],
   "source": [
    "net = model.linear\n",
    "num_epochs = 3\n",
    "for epoch in range(num_epochs):\n",
    "    for X, y in dataItr:\n",
    "        l = lossFn(net(X) ,y)\n",
    "        optimizer.zero_grad()\n",
    "        l.backward()\n",
    "        optimizer.step()\n",
    "    l = lossFn(net(feature), label)\n",
    "    print(f'epoch {epoch + 1}, loss {l:f}')"
   ]
  }
 ],
 "metadata": {
  "kernelspec": {
   "display_name": "d2l",
   "language": "python",
   "name": "python3"
  },
  "language_info": {
   "codemirror_mode": {
    "name": "ipython",
    "version": 3
   },
   "file_extension": ".py",
   "mimetype": "text/x-python",
   "name": "python",
   "nbconvert_exporter": "python",
   "pygments_lexer": "ipython3",
   "version": "3.9.18"
  }
 },
 "nbformat": 4,
 "nbformat_minor": 2
}
