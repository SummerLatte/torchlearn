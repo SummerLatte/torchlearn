{
 "cells": [
  {
   "cell_type": "code",
   "execution_count": 1,
   "metadata": {},
   "outputs": [],
   "source": [
    "%matplotlib inline\n",
    "import random\n",
    "import torch\n",
    "from d2l import torch as d2l"
   ]
  },
  {
   "cell_type": "code",
   "execution_count": 135,
   "metadata": {},
   "outputs": [
    {
     "data": {
      "text/plain": [
       "<matplotlib.collections.PathCollection at 0x14c065760>"
      ]
     },
     "execution_count": 135,
     "metadata": {},
     "output_type": "execute_result"
    },
    {
     "data": {
      "image/png": "[encoded data removed]",
      "text/plain": [
       "<Figure size 640x480 with 1 Axes>"
      ]
     },
     "metadata": {},
     "output_type": "display_data"
    }
   ],
   "source": [
    "\n",
    "\n",
    "# generate data\n",
    "# y = 3x + 2\n",
    "\n",
    "def genData(W, b, cnt):\n",
    "    X = torch.normal(0, 4, (cnt, len(W)))\n",
    "    y = torch.matmul(X, W) + b\n",
    "    y += torch.normal(0, 0.1, y.shape)\n",
    "    return X, y\n",
    "\n",
    "feature, label = genData(torch.tensor([-2.0, 4.0]), 2.0, 1000)\n",
    "\n",
    "d2l.plt.scatter(feature[:, 1].detach(), label.detach())"
   ]
  },
  {
   "cell_type": "code",
   "execution_count": 24,
   "metadata": {},
   "outputs": [
    {
     "name": "stdout",
     "output_type": "stream",
     "text": [
      "(tensor([[ 3.8782, -2.8994],\n",
      "        [ 9.5422,  2.0172],\n",
      "        [ 4.8623, -6.6601],\n",
      "        [-3.0275,  7.8126],\n",
      "        [ 4.8826,  0.0684],\n",
      "        [ 8.4254, -0.6219],\n",
      "        [ 1.8926,  0.5585],\n",
      "        [ 4.5952,  2.4218],\n",
      "        [ 2.2936,  3.7380],\n",
      "        [ 0.9246,  7.8557]]), tensor([  2.0216,  38.7137, -10.0456,  24.2072,  16.8441,  24.7846,   9.9980,\n",
      "         25.7085,  23.9188,  36.1470]))\n"
     ]
    }
   ],
   "source": [
    "def batch_get(feature, label, batchSize):\n",
    "    lenD = len(feature)\n",
    "    indces = list(range(lenD))\n",
    "    random.shuffle(indces)\n",
    "    for i in range(0, lenD, batchSize):\n",
    "        lastI = min(i+batchSize, lenD)\n",
    "        batchIndces = torch.tensor(indces[i: lastI])\n",
    "        yield feature[batchIndces], label[batchIndces]\n",
    "\n",
    "print(next(batch_get(feature, label, 10)))"
   ]
  },
  {
   "cell_type": "code",
   "execution_count": 62,
   "metadata": {},
   "outputs": [
    {
     "name": "stdout",
     "output_type": "stream",
     "text": [
      "tensor([0.], requires_grad=True)\n",
      "tensor([[ 0.1675],\n",
      "        [-0.8441]], requires_grad=True)\n"
     ]
    }
   ],
   "source": [
    "print(bias)\n",
    "print(weight)"
   ]
  },
  {
   "cell_type": "code",
   "execution_count": 14,
   "metadata": {},
   "outputs": [],
   "source": [
    "# your model\n",
    "def liner(X, W, b):\n",
    "    return torch.matmul(X, W) + b"
   ]
  },
  {
   "cell_type": "code",
   "execution_count": 39,
   "metadata": {},
   "outputs": [],
   "source": [
    "# your loss function\n",
    "# mse: (y-y_hat)^2 / 2\n",
    "def mse(y, y_hat):\n",
    "    return (y.reshape(y_hat.shape) - y_hat) ** 2 / 2"
   ]
  },
  {
   "cell_type": "code",
   "execution_count": 69,
   "metadata": {},
   "outputs": [],
   "source": [
    "# your optimize function\n",
    "# small batch gradient decent\n",
    "def sgd(params, lr, batchSize):\n",
    "    with torch.no_grad():\n",
    "        for param in params:\n",
    "            param -= lr * param.grad / batchSize\n",
    "            param.grad.zero_()"
   ]
  },
  {
   "cell_type": "code",
   "execution_count": 191,
   "metadata": {},
   "outputs": [],
   "source": [
    "# initial parameter\n",
    "weight = torch.rand((feature[0].shape[0], 1), requires_grad=True)\n",
    "bias = torch.zeros(1, requires_grad=True)"
   ]
  },
  {
   "cell_type": "code",
   "execution_count": 214,
   "metadata": {},
   "outputs": [
    {
     "name": "stdout",
     "output_type": "stream",
     "text": [
      "epoch 5, loss: 0.0030526053160429\n",
      "epoch 1, loss: 0.0021067983470857143\n",
      "epoch 2, loss: 0.0020612445659935474\n",
      "epoch 3, loss: 0.004555599298328161\n",
      "epoch 4, loss: 0.004672779701650143\n",
      "epoch 5, loss: 0.00519428588449955\n"
     ]
    }
   ],
   "source": [
    "# train\n",
    "#hyper parameters\n",
    "batchSize = 10\n",
    "lr = 0.03\n",
    "epoch = 5\n",
    "net = liner\n",
    "\n",
    "trainl = mse(l, net(f, weight, bias))\n",
    "print(f'epoch {epochCnt+1}, loss: {trainl.mean()}')\n",
    "for epochCnt in range(epoch):\n",
    "    for f, l in batch_get(feature, label, batchSize):\n",
    "        lHat = net(f, weight, bias)\n",
    "        ferr = mse(l, lHat)\n",
    "        ferr.sum().backward()\n",
    "        sgd([weight, bias], lr, batchSize)\n",
    "    with torch.no_grad():\n",
    "        trainl = mse(l, net(f, weight, bias))\n",
    "        print(f'epoch {epochCnt+1}, loss: {trainl.mean()}')"
   ]
  }
 ],
 "metadata": {
  "kernelspec": {
   "display_name": "d2l",
   "language": "python",
   "name": "python3"
  },
  "language_info": {
   "codemirror_mode": {
    "name": "ipython",
    "version": 3
   },
   "file_extension": ".py",
   "mimetype": "text/x-python",
   "name": "python",
   "nbconvert_exporter": "python",
   "pygments_lexer": "ipython3",
   "version": "3.9.18"
  }
 },
 "nbformat": 4,
 "nbformat_minor": 2
}
